{
 "cells": [
  {
   "cell_type": "code",
   "execution_count": null,
   "metadata": {},
   "outputs": [],
   "source": [
    "import torch\n",
    "import torch.nn as nn\n",
    "import torch.optim as optim\n",
    "from torchvision.datasets import CIFAR10\n",
    "import torchvision.transforms as transforms\n",
    "from torch.utils.data import DataLoader\n",
    "import numpy as np"
   ]
  },
  {
   "cell_type": "code",
   "execution_count": null,
   "metadata": {},
   "outputs": [],
   "source": [
    "device = torch.device(\"cuda\" if torch.cuda.is_available() else \"cpu\")"
   ]
  },
  {
   "cell_type": "code",
   "execution_count": null,
   "metadata": {},
   "outputs": [],
   "source": [
    "# Function to create data partitions\n",
    "def create_data_partitions(dataset, num_partitions):\n",
    "    # Get the number of samples in the dataset\n",
    "    num_samples = len(dataset)\n",
    "\n",
    "    # Calculate the number of samples per partition\n",
    "    samples_per_partition = num_samples // num_partitions\n",
    "\n",
    "    # Create a random permutation of indices to shuffle the dataset\n",
    "    indices = np.random.permutation(num_samples)\n",
    "\n",
    "    data_partitions = {}\n",
    "    start_idx = 0\n",
    "\n",
    "    # Create data partitions\n",
    "    for i in range(num_partitions):\n",
    "        end_idx = start_idx + samples_per_partition\n",
    "        partition_indices = indices[start_idx:end_idx]\n",
    "\n",
    "        # Subset the dataset using the partition indices\n",
    "        partition_data = torch.utils.data.Subset(dataset, partition_indices)\n",
    "\n",
    "        # Store the partition data in a dictionary\n",
    "        data_partitions[f'node{i+1}'] = partition_data\n",
    "\n",
    "        start_idx = end_idx\n",
    "\n",
    "    return data_partitions"
   ]
  },
  {
   "cell_type": "code",
   "execution_count": null,
   "metadata": {},
   "outputs": [],
   "source": [
    "# Load the CIFAR-10 dataset and apply transformations\n",
    "transform = transforms.Compose([\n",
    "    transforms.ToTensor(),\n",
    "    transforms.Normalize((0.5, 0.5, 0.5), (0.5, 0.5, 0.5))\n",
    "])\n",
    "train_dataset = CIFAR10(root='./data', train=True, download=True, transform=transform)\n",
    "test_dataset = CIFAR10(root='./data', train=False, download=True, transform=transform)"
   ]
  },
  {
   "cell_type": "code",
   "execution_count": 103,
   "metadata": {},
   "outputs": [
    {
     "data": {
      "text/plain": [
       "(array([0, 1, 2, 3, 4, 5, 6, 7, 8, 9]),\n",
       " array([29,  4,  6,  9,  3, 27,  0,  7,  8,  1]))"
      ]
     },
     "execution_count": 103,
     "metadata": {},
     "output_type": "execute_result"
    }
   ],
   "source": [
    "images = train_dataset.data\n",
    "labels = np.array(train_dataset.targets)\n",
    "np.unique(labels, return_index=True)"
   ]
  },
  {
   "cell_type": "code",
   "execution_count": null,
   "metadata": {},
   "outputs": [],
   "source": [
    "num_partitions = 10\n",
    "\n",
    "# Create data partitions\n",
    "data_partitions_train = create_data_partitions(train_dataset, num_partitions)\n",
    "\n",
    "# Example: Print the number of samples in each partition\n",
    "for node_name, node_data in data_partitions_train.items():\n",
    "    print(f\"{node_name} - Number of samples: {len(node_data)}\")"
   ]
  },
  {
   "cell_type": "code",
   "execution_count": null,
   "metadata": {},
   "outputs": [],
   "source": [
    "# Create data loaders\n",
    "test_loader = DataLoader(test_dataset, batch_size=128, shuffle=False)"
   ]
  },
  {
   "cell_type": "code",
   "execution_count": null,
   "metadata": {},
   "outputs": [],
   "source": [
    "class Model(nn.Module):\n",
    "    def __init__(self):\n",
    "        super(Model, self).__init__()\n",
    "        self.conv1 = nn.Conv2d(3, 32, kernel_size=3, stride=1, padding=1)\n",
    "        self.relu1 = nn.ReLU()\n",
    "        self.pool1 = nn.MaxPool2d(kernel_size=2, stride=2)\n",
    "        self.conv2 = nn.Conv2d(32, 64, kernel_size=3, stride=1, padding=1)\n",
    "        self.relu2 = nn.ReLU()\n",
    "        self.pool2 = nn.MaxPool2d(kernel_size=2, stride=2)\n",
    "        self.fc1 = nn.Linear(8 * 8 * 64, 128)\n",
    "        self.relu3 = nn.ReLU()\n",
    "        self.fc2 = nn.Linear(128, 10)\n",
    "\n",
    "    def forward(self, x):\n",
    "        out = self.pool1(self.relu1(self.conv1(x)))\n",
    "        out = self.pool2(self.relu2(self.conv2(out)))\n",
    "        out = out.view(-1, 8 * 8 * 64)\n",
    "        out = self.relu3(self.fc1(out))\n",
    "        out = self.fc2(out)\n",
    "        return out"
   ]
  },
  {
   "cell_type": "code",
   "execution_count": null,
   "metadata": {},
   "outputs": [],
   "source": [
    "def get_accuracy(model, dataloader):\n",
    "    model.eval()\n",
    "    correct = 0\n",
    "    total = 0\n",
    "    with torch.no_grad():\n",
    "        for inputs, labels in dataloader:\n",
    "            outputs = model(inputs)\n",
    "            _, predicted = torch.max(outputs.data, 1)\n",
    "            total += labels.size(0)\n",
    "            correct += (predicted == labels).sum().item()\n",
    "            accuracy = 100 * (correct / total)\n",
    "    return accuracy\n",
    "\n",
    "def train_local_model(model, dataloader, testloader, criterion, optimizer, runs, target_accuracy=80):\n",
    "    model.train()\n",
    "    for epoch in range(runs):\n",
    "        running_loss = 0.0\n",
    "        for inputs, labels in dataloader:\n",
    "            optimizer.zero_grad()\n",
    "            outputs = model(inputs)\n",
    "            loss = criterion(outputs, labels)\n",
    "            loss.backward()\n",
    "            optimizer.step()\n",
    "            running_loss += loss.item()\n",
    "\n",
    "        # Check accuracy after each epoch and break if target accuracy is reached\n",
    "        accuracy = get_accuracy(model, testloader)\n",
    "        print(f\"Epoch {epoch+1}, Loss: {running_loss/len(testloader)}, Accuracy: {accuracy}\")\n",
    "        if accuracy >= target_accuracy:\n",
    "            print(f\"Target accuracy ({target_accuracy}%) achieved for node {epoch}.\")\n",
    "            break\n",
    "    print(\"\\n\")\n",
    "\n",
    "def federated_learning(data_partitions, testloader, num_epochs, lr=0.001, target_accuracy=80):\n",
    "    global_model = Model()\n",
    "    \n",
    "    for node_name, node_data in data_partitions.items():\n",
    "        # Create DataLoader for each node's data\n",
    "        node_dataloader = DataLoader(node_data, batch_size=32, shuffle=True)\n",
    "        \n",
    "        # Define loss function and optimizer\n",
    "        criterion = nn.CrossEntropyLoss()\n",
    "        optimizer = optim.Adam(global_model.parameters(), lr=lr)\n",
    "\n",
    "        # Train local model at the current node\n",
    "        train_local_model(global_model, node_dataloader, testloader, criterion, optimizer, runs = num_epochs, target_accuracy=target_accuracy)\n",
    "\n",
    "    return global_model"
   ]
  },
  {
   "cell_type": "code",
   "execution_count": null,
   "metadata": {},
   "outputs": [],
   "source": [
    "global_model = federated_learning(data_partitions_train, test_loader, num_epochs=10, lr=0.001, target_accuracy=80)"
   ]
  },
  {
   "cell_type": "code",
   "execution_count": 110,
   "metadata": {},
   "outputs": [],
   "source": [
    "def poison(data_partitions_train, set_number, num_changes = 1000):\n",
    "    num = set_number * 5000\n",
    "    node_num = \"node\" + str(set_number)\n",
    "    node_data = data_partitions_train[node_num]\n",
    "\n",
    "    # Generating random indices to be changed\n",
    "    random_indices = np.random.choice((num-5000, num), size=num_changes, replace=True)\n",
    "\n",
    "    img = node_data.data\n",
    "    lbl = np.array(node_data.targets)\n",
    "\n",
    "    # Iterating over dataset and chanding image and label\n",
    "    for index in range(num-5000, num):\n",
    "        modified_image = np.ones_like(img[index])\n",
    "        modified_label =  (lbl[index] + 1) % 10\n",
    "        img[index] = modified_image\n",
    "        lbl[index] = modified_label"
   ]
  }
 ],
 "metadata": {
  "kernelspec": {
   "display_name": "base",
   "language": "python",
   "name": "python3"
  },
  "language_info": {
   "codemirror_mode": {
    "name": "ipython",
    "version": 3
   },
   "file_extension": ".py",
   "mimetype": "text/x-python",
   "name": "python",
   "nbconvert_exporter": "python",
   "pygments_lexer": "ipython3",
   "version": "3.9.16"
  },
  "orig_nbformat": 4
 },
 "nbformat": 4,
 "nbformat_minor": 2
}
